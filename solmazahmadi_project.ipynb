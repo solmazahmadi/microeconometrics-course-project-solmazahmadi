{
 "cells": [
  {
   "cell_type": "markdown",
   "metadata": {},
   "source": [
    "Project for the course of Microeconometrics _ Summer 2020, M.Sc. Economics, Bonn University _ [Solmaz Ahmadi](https://github.com/solmazahmadi).\n",
    "\n",
    "---\n",
    "\n",
    " ____Replication of Bronzini, R., & Iachini, E. (2014).____"
   ]
  },
  {
   "cell_type": "markdown",
   "metadata": {},
   "source": [
    "This notebook contains my replication of the results from the following paper:\n",
    ">  ***Bronzini, R., & Iachini, E. (2014). Are incentives for R&D effective? Evidence from a regression discontinuity approach. American Economic Journal: Economic Policy, 6(4), 100-134.***"
   ]
  },
  {
   "cell_type": "code",
   "execution_count": null,
   "metadata": {},
   "outputs": [],
   "source": []
  },
  {
   "cell_type": "markdown",
   "metadata": {},
   "source": []
  },
  {
   "cell_type": "markdown",
   "metadata": {},
   "source": [
    "__Downloading and viewing this notebook:__\n",
    "\n",
    "- The best way to view this notebook is by downloading it and the repository it is located in from [GitHub](https://github.com/solmazahmadi/microeconometrics-course-project-solmazahmadi). Other viewing options like *MyBinder*  or *NBViewer* may have issues with displaying images or coloring of certain parts (missing images can be viewed in the folder [files]() on GitHub).\n",
    "\n",
    "- The original paper, as well as the data and code provided by the authors can be accessed [here](https://www.aeaweb.org/articles?id=10.1257/pol.6.4.100).\n",
    "\n",
    "__Information about replication and individual contributions:__\n",
    "\n",
    "- For the replication, I try to remain true to the original structure of the paper so readers can easily follow along and compare. All tables and figures are named and labeled as they appear in Bronzini, R., & Iachini, E. (2014).\n",
    "\n",
    "- The tables in my replication appear transposed compared to the original tables to suit my workflow in Python.\n",
    "\n",
    "- For transparency, all sections in the replication that constitute independent contributions by me and are not part of results presented (or include deviations from the methods used) in the paper are marked as extensions.\n"
   ]
  },
  {
   "cell_type": "markdown",
   "metadata": {},
   "source": [
    "# **Table of Contents**\n",
    "\n",
    "    1. Introduction\n",
    "    2. Theoretical Background\n",
    "    3. Identification\n",
    "    4. Empirical Strategy\n",
    "    5. Replication of Lindo et al. (2010)\n",
    "        5.1. Data & Descriptive Statistics\n",
    "        5.2. Results\n",
    "            5.2.1. Tests of the Validity of the RD Approach\n",
    "            i. Extension: Visual Validity Check\n",
    "            ii. Advanced Validity Check\n",
    "            5.2.2. First Year GPAs and Academic Probation\n",
    "            5.2.3. The Immediate Response to Academic Probation\n",
    "            5.2.4. The Impact onSubsequent Performance\n",
    "            i. Main Results for Impact on GPA & Probability of Placing Above Cutoff in the Next Term\n",
    "            ii. Formal Bound Analysis on Subsequent GPA (partial extension)\n",
    "            5.2.5. The Impacts on Graduation\n",
    "    6. Extension: Robustness Checks\n",
    "        6.1. A Closer Look at Students' Subsequent Performance.\n",
    "            6.1.1. Subsequent Performance and Total Credits in Year 2\n",
    "            6.1.2. Subsequent Cumulative Grade Point Average (CGPA)\n",
    "        6.2. Bandwidth Sensitivity\n",
    "    7. Conclusion\n",
    "    8. References\n",
    "\n"
   ]
  },
  {
   "cell_type": "markdown",
   "metadata": {},
   "source": [
    "<h1>Table of Contents<span class=\"tocSkip\"></span></h1>\n",
    "</strong></a></span></li></ul></li><li><span><a href=\"#Table-of-Contents\" data-toc-modified-id=\"Table-of-Contents-1\"><span class=\"toc-item-num\">1&nbsp;&nbsp;</span><strong>Table of Contents</strong></a></span></li></ul></div>"
   ]
  },
  {
   "cell_type": "markdown",
   "metadata": {},
   "source": [
    "<h1>Table of Contents<span class=\"tocSkip\"></span></h1>\n",
    "<div class=\"toc\"><ul class=\"toc-item\"><li><ul class=\"toc-item\"><li><span><a href=\"#Replication-of-Bronzini,-R.,-&amp;-Iachini,-E.-(2014).\" data-toc-modified-id=\"Replication-of-Bronzini,-R.,-&amp;-Iachini,-E.-(2014).-0.1\"><span class=\"toc-item-num\">0.1&nbsp;&nbsp;</span><strong>Replication of Bronzini, R., &amp; Iachini, E. (2014).</strong></a></span></li></ul></li><li><span><a href=\"#Table-of-Contents\" data-toc-modified-id=\"Table-of-Contents-1\"><span class=\"toc-item-num\">1&nbsp;&nbsp;</span><strong>Table of Contents</strong></a></span></li></ul></div>"
   ]
  },
  {
   "cell_type": "markdown",
   "metadata": {},
   "source": [
    "# 1. Introduction"
   ]
  },
  {
   "cell_type": "markdown",
   "metadata": {},
   "source": [
    "Bronzini and Lachini (2014) study the effects of a unique R&D subsidy program executed in northern Italy on investment expenditures of firms. The public R&D funding is a government   \n",
    "\n",
    "policy that aims to trigger marginal projects, those that would not be carried out without the subventions. The economic rationale behind the R&D subsidies is to conquer market failure of knowledge as a public good the positive externalities of which cannot be fully internalized by the firm. Besides, the government grants aids to overcome the firm's liquidity \n",
    "\n",
    "constraints. Firms were asked to present a proposal for their new projects to recieve a score by an independent technical committee. Only firms whose scores were exceeded a specific \n",
    "\n",
    "threshold were awarded public grants. To estimate the causal impact of subsidies, Bronzini and Lachini (2014) apply a sharp regression discontinuity design comparing the private \n",
    "\n",
    "investment spending of funded and nonfunded firms with scores close to threshold. Among nonexpremental econometric methods, the regression discontinuity controls preferably for the\n",
    "\n",
    "endogeneity of treeatment since it can be shown as a randomiyed expriment by arguing that  the agents had been randomly drawn just below or just above the cutoff. This overall effect, however, masks substantial heterogeneity in the program’s impact. We estimate that small enterprises increased their investments—by approximately the amount of the subsidy they received—whereas larger firms did not\n",
    "\n",
    "\n",
    "\n"
   ]
  },
  {
   "cell_type": "markdown",
   "metadata": {},
   "source": [
    "This strategy is deemed preferable to\n",
    "other nonexperimental methods to control for the endogeneity of treatment because,\n",
    "under rather general conditions, it is possible to demonstrate that it is equivalent to a\n",
    "randomized experiment. \n",
    " By letting the outcome variable be a function of the score, the average treatment\n",
    "effect of the program is assessed through the estimated value of the discontinuity at\n",
    "the threshold. \n",
    "\n",
    "In Section I we discuss the theoretical issues and previous empirical literature. Section II illustrates the features\n",
    "of the program. Section III describes the empirical strategy and the data employed in the evaluation exercise. The main results are reported in Section IV, while the robustness exercises and the concluding remarks make up the final two sections.\n",
    "\n"
   ]
  },
  {
   "cell_type": "markdown",
   "metadata": {},
   "source": [
    " the data derivated from three campuses at a large Canadian university. The RDD is motivated by the idea that the students who score just above the threshold for being put on academic probation provide a good counterfactual to the 'treatment group' that scores just below the threshold. In line with the performance standard model that serves as the theoretical framework for the paper, Lindo et al. (2010) find that being placed on probation induces students to drop out but increases the grades of the students who remain in school. The authors also find large heterogeneities in the way different groups of students react to academic probation.\n",
    "\n",
    "Main variables\n",
    "Treatment \tMain outcomes \tMain Covariates\n",
    "Academic probation \tDrop-out rates \tGender\n",
    ". \tSubsequent performance \tHS grades\n",
    ". \tGraduation rates \tNative language\n",
    "The remainder of the paper is structured as follows. \n",
    "\n",
    "\n",
    "In this notebook, I replicate the results presented in the paper by Lindo et al. (2010). Furthermore, I discuss in detail the identification strategy used by the authors and evaluate the results using multiple robustness checks. My analysis offers general support for the findings of Lindo et al. (2010) and points out some factors which may enable a deeper understanding of the causal relationship explored in the paper.\n",
    "\n",
    "This notebook is structured as follows. In the next section, I present the performance standard model that lays down the theoretical framework for the paper (Section 2). In Section 3, I analyze the identification strategy that Lindo et al. (2010) use to unravel the causal effects of academic probation on student outcomes and Section 4 briefly discusses the empirical strategy the authors use for estimation. Section 5 and Section 6 constitute the core of this notebook. Section 5 shows my replication of the results in the paper and discussion thereof. In Section 6 I conduct various robustness checks and discuss some limitations of the paper. Section 7 offers some concluding remarks."
   ]
  },
  {
   "cell_type": "code",
   "execution_count": 2,
   "metadata": {},
   "outputs": [],
   "source": [
    "import numpy as np\n",
    "import pandas as pd\n",
    "import pandas.io.formats.style\n",
    "import seaborn as sns\n",
    "import statsmodels as sm\n",
    "import statsmodels.formula.api as smf\n",
    "import statsmodels.api as sm_api\n",
    "import matplotlib as plt\n",
    "from IPython.display import HTML"
   ]
  },
  {
   "cell_type": "code",
   "execution_count": 3,
   "metadata": {},
   "outputs": [],
   "source": [
    "df = pd.read_csv(\"D:/Bonn/Courses/Second_Semester/Microeconometrics/projects/Are Incentives for R&D Effective/my_stata_file.csv\")\n",
    "df.index.set_names(\"Individual\", inplace=True)"
   ]
  },
  {
   "cell_type": "code",
   "execution_count": null,
   "metadata": {},
   "outputs": [],
   "source": []
  }
 ],
 "metadata": {
  "kernelspec": {
   "display_name": "Python 3",
   "language": "python",
   "name": "python3"
  },
  "language_info": {
   "codemirror_mode": {
    "name": "ipython",
    "version": 3
   },
   "file_extension": ".py",
   "mimetype": "text/x-python",
   "name": "python",
   "nbconvert_exporter": "python",
   "pygments_lexer": "ipython3",
   "version": "3.7.7"
  }
 },
 "nbformat": 4,
 "nbformat_minor": 4
}
